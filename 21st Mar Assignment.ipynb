{
 "cells": [
  {
   "cell_type": "markdown",
   "id": "9945d0fc-01d7-4803-b337-e0ad1104c17e",
   "metadata": {},
   "source": [
    "# 21st March Assignment"
   ]
  },
  {
   "cell_type": "code",
   "execution_count": null,
   "id": "4dca47f4-d6af-426c-a765-8a4bb383d4a6",
   "metadata": {},
   "outputs": [],
   "source": []
  },
  {
   "cell_type": "markdown",
   "id": "a6412885-5973-48de-9b21-17c2633126f2",
   "metadata": {},
   "source": [
    "## Q1. What is the difference between Ordinal Encoding and Label Encoding? Provide an example of when you might choose one over the other.\n"
   ]
  },
  {
   "cell_type": "markdown",
   "id": "66c91b6f-243f-4e92-9310-6df8b5fb05ec",
   "metadata": {},
   "source": [
    "-> Label encoding assign interger value to all unique categories.In this technique nature of category is ranking.\n",
    "\n",
    "-> Ordinal encoding also assign integer value , but in this technique we have to decide ranking of categories.In this technique categories has clear numeric      differnce."
   ]
  },
  {
   "cell_type": "markdown",
   "id": "20d2a38d-62fe-4781-9366-6095f9b3fc80",
   "metadata": {},
   "source": [
    "* Example\n",
    "\n",
    "1. Label Encoding : Size\n",
    "\n",
    "Small - 0\n",
    "\n",
    "Medium - 1\n",
    "\n",
    "Large - 2\n",
    "\n",
    "2. Ordinal Encoding : Education\n",
    "\n",
    "High School - 1\n",
    "\n",
    "Post Graduat - 2\n",
    "\n",
    "Under Graduat - 3\n",
    "\n",
    "PHD - 5"
   ]
  },
  {
   "cell_type": "code",
   "execution_count": null,
   "id": "ecd014bf-8f55-4e41-ab72-d1c83e07e371",
   "metadata": {},
   "outputs": [],
   "source": []
  },
  {
   "cell_type": "markdown",
   "id": "071e3758-8041-4d84-8bbd-34646161bb23",
   "metadata": {},
   "source": [
    "## Q2. Explain how Target Guided Ordinal Encoding works and provide an example of when you might use it in a machine learning project.\n"
   ]
  },
  {
   "cell_type": "markdown",
   "id": "3573971b-80d5-42c9-a773-5c4f76addeb8",
   "metadata": {},
   "source": [
    "-> Target guided encoding works completely uppon target feature,\n",
    "\n",
    "-> If any categorical feature has strong relationship with target feature so we can format it easily with the help of target guided encoding.\n",
    "\n",
    "* Example\n",
    "\n",
    "-> Let suppose we are working on an dataset which consist multiple features.\n",
    "\n",
    "-> One of them feature is location that is categorical and it has strong relationship with target feature which is price,\n",
    "\n",
    "-> By calculating mean or median of that price we can easily format location featue into numeric for machine learning model."
   ]
  },
  {
   "cell_type": "code",
   "execution_count": null,
   "id": "dfbc7c68-01b3-45d9-b13f-66a6067b84a7",
   "metadata": {},
   "outputs": [],
   "source": []
  },
  {
   "cell_type": "markdown",
   "id": "d49533f0-6f2e-456f-ad93-fb4cb911d60a",
   "metadata": {},
   "source": [
    "## Q3. Define covariance and explain why it is important in statistical analysis. How is covariance calculated?"
   ]
  },
  {
   "cell_type": "markdown",
   "id": "b96624cc-83db-4fbd-a0d6-59cd9c7015e1",
   "metadata": {},
   "source": [
    "* Definition : Covariance is a statistical technique used to find mathematical relationship between features or variables.\n",
    "\n",
    "* Importance\n",
    "\n",
    "-> Covariance plays very important role in machine learning for feature selection.\n",
    "\n",
    "-> With the help of covariance we can easily know the relationship and because that we can easily select the features.\n",
    "\n",
    "* Formula\n",
    "\n",
    "Cov(x,y) = ∑"
   ]
  },
  {
   "cell_type": "code",
   "execution_count": null,
   "id": "43a1cc38-d941-4c56-9517-cdac2ef3cc0d",
   "metadata": {},
   "outputs": [],
   "source": []
  },
  {
   "cell_type": "markdown",
   "id": "d12d47c4-d477-4f97-a1c4-a2cbbe6cef32",
   "metadata": {},
   "source": [
    "## Q4. For a dataset with the following categorical variables: Color (red, green, blue), Size (small, medium,large), and Material (wood, metal, plastic), perform label encoding using Python's scikit-learn library.Show your code and explain the output.\n",
    "\n"
   ]
  },
  {
   "cell_type": "code",
   "execution_count": 1,
   "id": "1026cc66-d65c-4a8c-a1fd-17f7c00d9a4a",
   "metadata": {},
   "outputs": [],
   "source": [
    "import pandas as pd"
   ]
  },
  {
   "cell_type": "code",
   "execution_count": 2,
   "id": "bdf8b903-ff9f-4f9b-94ec-7a631e508065",
   "metadata": {},
   "outputs": [],
   "source": [
    "df = pd.DataFrame({\n",
    "                'Color' : ['red','green','blue'],\n",
    "                'Size' : ['small','medium','large'],\n",
    "                'Material': ['wood','metal','plastic']\n",
    "                \n",
    "                             })"
   ]
  },
  {
   "cell_type": "code",
   "execution_count": 3,
   "id": "2929ec29-23b4-401d-99c3-4fbc86a58106",
   "metadata": {},
   "outputs": [
    {
     "data": {
      "text/html": [
       "<div>\n",
       "<style scoped>\n",
       "    .dataframe tbody tr th:only-of-type {\n",
       "        vertical-align: middle;\n",
       "    }\n",
       "\n",
       "    .dataframe tbody tr th {\n",
       "        vertical-align: top;\n",
       "    }\n",
       "\n",
       "    .dataframe thead th {\n",
       "        text-align: right;\n",
       "    }\n",
       "</style>\n",
       "<table border=\"1\" class=\"dataframe\">\n",
       "  <thead>\n",
       "    <tr style=\"text-align: right;\">\n",
       "      <th></th>\n",
       "      <th>Color</th>\n",
       "      <th>Size</th>\n",
       "      <th>Material</th>\n",
       "    </tr>\n",
       "  </thead>\n",
       "  <tbody>\n",
       "    <tr>\n",
       "      <th>0</th>\n",
       "      <td>red</td>\n",
       "      <td>small</td>\n",
       "      <td>wood</td>\n",
       "    </tr>\n",
       "    <tr>\n",
       "      <th>1</th>\n",
       "      <td>green</td>\n",
       "      <td>medium</td>\n",
       "      <td>metal</td>\n",
       "    </tr>\n",
       "    <tr>\n",
       "      <th>2</th>\n",
       "      <td>blue</td>\n",
       "      <td>large</td>\n",
       "      <td>plastic</td>\n",
       "    </tr>\n",
       "  </tbody>\n",
       "</table>\n",
       "</div>"
      ],
      "text/plain": [
       "   Color    Size Material\n",
       "0    red   small     wood\n",
       "1  green  medium    metal\n",
       "2   blue   large  plastic"
      ]
     },
     "execution_count": 3,
     "metadata": {},
     "output_type": "execute_result"
    }
   ],
   "source": [
    "df"
   ]
  },
  {
   "cell_type": "code",
   "execution_count": 4,
   "id": "cdc7c7df-e142-4569-a4fb-7c87c03f3acc",
   "metadata": {},
   "outputs": [],
   "source": [
    "from sklearn.preprocessing import LabelEncoder"
   ]
  },
  {
   "cell_type": "code",
   "execution_count": 5,
   "id": "fee85610-4aba-4b6c-a3a0-97023beec8d9",
   "metadata": {},
   "outputs": [],
   "source": [
    "encoder = LabelEncoder()"
   ]
  },
  {
   "cell_type": "code",
   "execution_count": 8,
   "id": "67abd142-8ac7-486f-957e-bcf0d3673677",
   "metadata": {},
   "outputs": [
    {
     "data": {
      "text/plain": [
       "array([2, 1, 0])"
      ]
     },
     "execution_count": 8,
     "metadata": {},
     "output_type": "execute_result"
    }
   ],
   "source": [
    "encoder.fit_transform(df['Color'])"
   ]
  },
  {
   "cell_type": "code",
   "execution_count": 19,
   "id": "bc95dc5b-192c-4f55-9265-7895238917fe",
   "metadata": {},
   "outputs": [],
   "source": [
    "df_color=pd.DataFrame(encoder.fit_transform(df['Color']),columns=['Encoded_Color'])"
   ]
  },
  {
   "cell_type": "code",
   "execution_count": 15,
   "id": "a683d63c-0295-47ba-b03b-5057a4704e1b",
   "metadata": {},
   "outputs": [
    {
     "data": {
      "text/plain": [
       "array([2, 1, 0])"
      ]
     },
     "execution_count": 15,
     "metadata": {},
     "output_type": "execute_result"
    }
   ],
   "source": [
    "encoder.fit_transform(df['Size'])"
   ]
  },
  {
   "cell_type": "code",
   "execution_count": 20,
   "id": "e88e6ff9-b8c7-46bc-892c-2abae7d46bcb",
   "metadata": {},
   "outputs": [],
   "source": [
    "df_size=pd.DataFrame(encoder.fit_transform(df['Size']),columns=['Encoded_Size'])"
   ]
  },
  {
   "cell_type": "code",
   "execution_count": 18,
   "id": "87ad1279-1794-4357-bfff-b87d66086872",
   "metadata": {},
   "outputs": [
    {
     "data": {
      "text/plain": [
       "array([2, 0, 1])"
      ]
     },
     "execution_count": 18,
     "metadata": {},
     "output_type": "execute_result"
    }
   ],
   "source": [
    "encoder.fit_transform(df['Material'])"
   ]
  },
  {
   "cell_type": "code",
   "execution_count": 21,
   "id": "1579325e-5719-4b9b-b3e6-3f1087531569",
   "metadata": {},
   "outputs": [],
   "source": [
    "df_material=pd.DataFrame(encoder.fit_transform(df['Material']),columns=['Encoded_Material'])"
   ]
  },
  {
   "cell_type": "code",
   "execution_count": 22,
   "id": "1955e975-2778-433c-8937-0a154b9206e6",
   "metadata": {},
   "outputs": [],
   "source": [
    "final_encoded = pd.concat([df,df_color,df_size,df_material],axis=1)"
   ]
  },
  {
   "cell_type": "code",
   "execution_count": 23,
   "id": "e9e50daf-f017-461c-a12e-3f0d39d6b4fe",
   "metadata": {},
   "outputs": [
    {
     "data": {
      "text/html": [
       "<div>\n",
       "<style scoped>\n",
       "    .dataframe tbody tr th:only-of-type {\n",
       "        vertical-align: middle;\n",
       "    }\n",
       "\n",
       "    .dataframe tbody tr th {\n",
       "        vertical-align: top;\n",
       "    }\n",
       "\n",
       "    .dataframe thead th {\n",
       "        text-align: right;\n",
       "    }\n",
       "</style>\n",
       "<table border=\"1\" class=\"dataframe\">\n",
       "  <thead>\n",
       "    <tr style=\"text-align: right;\">\n",
       "      <th></th>\n",
       "      <th>Color</th>\n",
       "      <th>Size</th>\n",
       "      <th>Material</th>\n",
       "      <th>Encoded_Color</th>\n",
       "      <th>Encoded_Size</th>\n",
       "      <th>Encoded_Material</th>\n",
       "    </tr>\n",
       "  </thead>\n",
       "  <tbody>\n",
       "    <tr>\n",
       "      <th>0</th>\n",
       "      <td>red</td>\n",
       "      <td>small</td>\n",
       "      <td>wood</td>\n",
       "      <td>2</td>\n",
       "      <td>2</td>\n",
       "      <td>2</td>\n",
       "    </tr>\n",
       "    <tr>\n",
       "      <th>1</th>\n",
       "      <td>green</td>\n",
       "      <td>medium</td>\n",
       "      <td>metal</td>\n",
       "      <td>1</td>\n",
       "      <td>1</td>\n",
       "      <td>0</td>\n",
       "    </tr>\n",
       "    <tr>\n",
       "      <th>2</th>\n",
       "      <td>blue</td>\n",
       "      <td>large</td>\n",
       "      <td>plastic</td>\n",
       "      <td>0</td>\n",
       "      <td>0</td>\n",
       "      <td>1</td>\n",
       "    </tr>\n",
       "  </tbody>\n",
       "</table>\n",
       "</div>"
      ],
      "text/plain": [
       "   Color    Size Material  Encoded_Color  Encoded_Size  Encoded_Material\n",
       "0    red   small     wood              2             2                 2\n",
       "1  green  medium    metal              1             1                 0\n",
       "2   blue   large  plastic              0             0                 1"
      ]
     },
     "execution_count": 23,
     "metadata": {},
     "output_type": "execute_result"
    }
   ],
   "source": [
    "final_encoded"
   ]
  },
  {
   "cell_type": "code",
   "execution_count": null,
   "id": "3f2a118c-84b2-4e8c-9f20-bd09ca82857b",
   "metadata": {},
   "outputs": [],
   "source": []
  },
  {
   "cell_type": "markdown",
   "id": "796b0401-5dde-4a2a-b885-84103af54e61",
   "metadata": {},
   "source": [
    "## Q5. Calculate the covariance matrix for the following variables in a dataset: Age, Income, and Education level. Interpret the results.\n"
   ]
  },
  {
   "cell_type": "code",
   "execution_count": 5,
   "id": "fd82576e-3a29-4d73-8d0a-17ae8c6f98aa",
   "metadata": {},
   "outputs": [],
   "source": [
    "import pandas as pd\n",
    "\n",
    "df = pd.DataFrame({\n",
    "                 'Age' : [20,23,27],\n",
    "                 'Income':[50000,150000,230000],\n",
    "                 'Education_lvl':['B_Tech','M_Tech','PHD']\n",
    "                 })"
   ]
  },
  {
   "cell_type": "code",
   "execution_count": 6,
   "id": "f46316d1-1372-48e0-b054-6270b2f847eb",
   "metadata": {},
   "outputs": [
    {
     "name": "stderr",
     "output_type": "stream",
     "text": [
      "/tmp/ipykernel_77/1545644723.py:1: FutureWarning: The default value of numeric_only in DataFrame.cov is deprecated. In a future version, it will default to False. Select only valid columns or specify the value of numeric_only to silence this warning.\n",
      "  df.cov()\n"
     ]
    },
    {
     "data": {
      "text/html": [
       "<div>\n",
       "<style scoped>\n",
       "    .dataframe tbody tr th:only-of-type {\n",
       "        vertical-align: middle;\n",
       "    }\n",
       "\n",
       "    .dataframe tbody tr th {\n",
       "        vertical-align: top;\n",
       "    }\n",
       "\n",
       "    .dataframe thead th {\n",
       "        text-align: right;\n",
       "    }\n",
       "</style>\n",
       "<table border=\"1\" class=\"dataframe\">\n",
       "  <thead>\n",
       "    <tr style=\"text-align: right;\">\n",
       "      <th></th>\n",
       "      <th>Age</th>\n",
       "      <th>Income</th>\n",
       "    </tr>\n",
       "  </thead>\n",
       "  <tbody>\n",
       "    <tr>\n",
       "      <th>Age</th>\n",
       "      <td>12.333333</td>\n",
       "      <td>3.133333e+05</td>\n",
       "    </tr>\n",
       "    <tr>\n",
       "      <th>Income</th>\n",
       "      <td>313333.333333</td>\n",
       "      <td>8.133333e+09</td>\n",
       "    </tr>\n",
       "  </tbody>\n",
       "</table>\n",
       "</div>"
      ],
      "text/plain": [
       "                  Age        Income\n",
       "Age         12.333333  3.133333e+05\n",
       "Income  313333.333333  8.133333e+09"
      ]
     },
     "execution_count": 6,
     "metadata": {},
     "output_type": "execute_result"
    }
   ],
   "source": [
    "df.cov()"
   ]
  },
  {
   "cell_type": "code",
   "execution_count": null,
   "id": "41f53140-63f6-465d-9e63-74eb43b8387b",
   "metadata": {},
   "outputs": [],
   "source": []
  },
  {
   "cell_type": "markdown",
   "id": "67fc494a-5601-4b39-b93c-5a53f2af145a",
   "metadata": {},
   "source": [
    "## Q6. You are working on a machine learning project with a dataset containing several categorical variables, including \"Gender\" (Male/Female), \"Education Level\" (High School/Bachelor's/Master's/PhD),and \"Employment Status\" (Unemployed/Part-Time/Full-Time). Which encoding method would you use for each variable, and why?\n",
    "\n",
    "\n"
   ]
  },
  {
   "cell_type": "markdown",
   "id": "b01041ba-42e6-4457-8f44-88542326437c",
   "metadata": {},
   "source": [
    "-> I will use different technique for categories."
   ]
  },
  {
   "cell_type": "markdown",
   "id": "12ee8cb3-a3ce-4a20-a593-9dddf3e39ba6",
   "metadata": {},
   "source": [
    "* I will use one hot encoding for gender category, cause it contains binary so we can easily encode it with OHE. "
   ]
  },
  {
   "cell_type": "code",
   "execution_count": 3,
   "id": "6a407e4e-1ba3-452c-a959-e3f3487b34fd",
   "metadata": {},
   "outputs": [
    {
     "data": {
      "text/html": [
       "<div>\n",
       "<style scoped>\n",
       "    .dataframe tbody tr th:only-of-type {\n",
       "        vertical-align: middle;\n",
       "    }\n",
       "\n",
       "    .dataframe tbody tr th {\n",
       "        vertical-align: top;\n",
       "    }\n",
       "\n",
       "    .dataframe thead th {\n",
       "        text-align: right;\n",
       "    }\n",
       "</style>\n",
       "<table border=\"1\" class=\"dataframe\">\n",
       "  <thead>\n",
       "    <tr style=\"text-align: right;\">\n",
       "      <th></th>\n",
       "      <th>Gender</th>\n",
       "      <th>Gender_Female</th>\n",
       "      <th>Gender_Male</th>\n",
       "    </tr>\n",
       "  </thead>\n",
       "  <tbody>\n",
       "    <tr>\n",
       "      <th>0</th>\n",
       "      <td>Male</td>\n",
       "      <td>0.0</td>\n",
       "      <td>1.0</td>\n",
       "    </tr>\n",
       "    <tr>\n",
       "      <th>1</th>\n",
       "      <td>Female</td>\n",
       "      <td>1.0</td>\n",
       "      <td>0.0</td>\n",
       "    </tr>\n",
       "  </tbody>\n",
       "</table>\n",
       "</div>"
      ],
      "text/plain": [
       "   Gender  Gender_Female  Gender_Male\n",
       "0    Male            0.0          1.0\n",
       "1  Female            1.0          0.0"
      ]
     },
     "execution_count": 3,
     "metadata": {},
     "output_type": "execute_result"
    }
   ],
   "source": [
    "import pandas as pd\n",
    "from sklearn.preprocessing import OneHotEncoder\n",
    "\n",
    "ohe = OneHotEncoder()\n",
    "\n",
    "g_df = pd.DataFrame({'Gender':['Male','Female']})\n",
    "\n",
    "encoded_g = ohe.fit_transform(g_df[['Gender']]).toarray()\n",
    "\n",
    "encoded_df = pd.DataFrame(encoded_g,columns=ohe.get_feature_names_out())\n",
    "\n",
    "final_df = pd.concat([g_df,encoded_df],axis=1)\n",
    "\n",
    "final_df"
   ]
  },
  {
   "cell_type": "code",
   "execution_count": null,
   "id": "6ded5c38-0f57-424c-be6d-c87351348778",
   "metadata": {},
   "outputs": [],
   "source": []
  },
  {
   "cell_type": "markdown",
   "id": "5b496459-5fed-436d-882d-97324f210424",
   "metadata": {},
   "source": [
    "* I will use label encoding for education level category, cause the nature of category is ranking."
   ]
  },
  {
   "cell_type": "code",
   "execution_count": 9,
   "id": "210ae4fe-b70c-413f-b441-dff9e0787bc0",
   "metadata": {},
   "outputs": [
    {
     "data": {
      "text/html": [
       "<div>\n",
       "<style scoped>\n",
       "    .dataframe tbody tr th:only-of-type {\n",
       "        vertical-align: middle;\n",
       "    }\n",
       "\n",
       "    .dataframe tbody tr th {\n",
       "        vertical-align: top;\n",
       "    }\n",
       "\n",
       "    .dataframe thead th {\n",
       "        text-align: right;\n",
       "    }\n",
       "</style>\n",
       "<table border=\"1\" class=\"dataframe\">\n",
       "  <thead>\n",
       "    <tr style=\"text-align: right;\">\n",
       "      <th></th>\n",
       "      <th>Education_level</th>\n",
       "      <th>Encoded_level</th>\n",
       "    </tr>\n",
       "  </thead>\n",
       "  <tbody>\n",
       "    <tr>\n",
       "      <th>0</th>\n",
       "      <td>Bachelor</td>\n",
       "      <td>0</td>\n",
       "    </tr>\n",
       "    <tr>\n",
       "      <th>1</th>\n",
       "      <td>Master</td>\n",
       "      <td>1</td>\n",
       "    </tr>\n",
       "    <tr>\n",
       "      <th>2</th>\n",
       "      <td>PhD</td>\n",
       "      <td>2</td>\n",
       "    </tr>\n",
       "  </tbody>\n",
       "</table>\n",
       "</div>"
      ],
      "text/plain": [
       "  Education_level  Encoded_level\n",
       "0        Bachelor              0\n",
       "1          Master              1\n",
       "2             PhD              2"
      ]
     },
     "execution_count": 9,
     "metadata": {},
     "output_type": "execute_result"
    }
   ],
   "source": [
    "import pandas as pd\n",
    "from sklearn.preprocessing import LabelEncoder\n",
    "encoder= LabelEncoder()\n",
    "\n",
    "df=pd.DataFrame({'Education_level':['Bachelor','Master','PhD']})\n",
    "\n",
    "encoded = encoder.fit_transform(df['Education_level'])\n",
    "\n",
    "encoded_df = pd.DataFrame(encoded,columns=['Encoded_level'])\n",
    "\n",
    "final_df = pd.concat([df,encoded_df],axis=1)\n",
    "\n",
    "final_df"
   ]
  },
  {
   "cell_type": "code",
   "execution_count": null,
   "id": "cf20a6b2-488b-4129-8828-1b6c0f9de5fd",
   "metadata": {},
   "outputs": [],
   "source": []
  },
  {
   "cell_type": "markdown",
   "id": "38fe6eef-cbc5-4f25-815d-178c6ed15b0a",
   "metadata": {},
   "source": [
    "* I will use ordinal encoding for employment status category ,cause type of category has numeric difference."
   ]
  },
  {
   "cell_type": "code",
   "execution_count": 4,
   "id": "08574dc5-8716-470b-90b3-c7fbfe42097b",
   "metadata": {},
   "outputs": [
    {
     "data": {
      "text/html": [
       "<div>\n",
       "<style scoped>\n",
       "    .dataframe tbody tr th:only-of-type {\n",
       "        vertical-align: middle;\n",
       "    }\n",
       "\n",
       "    .dataframe tbody tr th {\n",
       "        vertical-align: top;\n",
       "    }\n",
       "\n",
       "    .dataframe thead th {\n",
       "        text-align: right;\n",
       "    }\n",
       "</style>\n",
       "<table border=\"1\" class=\"dataframe\">\n",
       "  <thead>\n",
       "    <tr style=\"text-align: right;\">\n",
       "      <th></th>\n",
       "      <th>Employment_status</th>\n",
       "      <th>Encoded_status</th>\n",
       "    </tr>\n",
       "  </thead>\n",
       "  <tbody>\n",
       "    <tr>\n",
       "      <th>0</th>\n",
       "      <td>part_time</td>\n",
       "      <td>1.0</td>\n",
       "    </tr>\n",
       "    <tr>\n",
       "      <th>1</th>\n",
       "      <td>full_time</td>\n",
       "      <td>2.0</td>\n",
       "    </tr>\n",
       "    <tr>\n",
       "      <th>2</th>\n",
       "      <td>unemployed</td>\n",
       "      <td>0.0</td>\n",
       "    </tr>\n",
       "  </tbody>\n",
       "</table>\n",
       "</div>"
      ],
      "text/plain": [
       "  Employment_status  Encoded_status\n",
       "0         part_time             1.0\n",
       "1         full_time             2.0\n",
       "2        unemployed             0.0"
      ]
     },
     "execution_count": 4,
     "metadata": {},
     "output_type": "execute_result"
    }
   ],
   "source": [
    "import pandas as pd\n",
    "from sklearn.preprocessing import OrdinalEncoder\n",
    "encoder= OrdinalEncoder(categories=[['unemployed','part_time','full_time']])\n",
    "\n",
    "df=pd.DataFrame({'Employment_status':['part_time','full_time','unemployed']})\n",
    "\n",
    "encoded = encoder.fit_transform(df[['Employment_status']])\n",
    "\n",
    "encoded_df = pd.DataFrame(encoded,columns=['Encoded_status'])\n",
    "\n",
    "final_df = pd.concat([df,encoded_df],axis=1)\n",
    "\n",
    "final_df"
   ]
  },
  {
   "cell_type": "code",
   "execution_count": null,
   "id": "2aea3d12-7dfd-48db-9161-d682aae3c40c",
   "metadata": {},
   "outputs": [],
   "source": []
  },
  {
   "cell_type": "markdown",
   "id": "8d9726a1-19de-4db0-8e76-96eb72fd7a70",
   "metadata": {},
   "source": [
    "## Q7. You are analyzing a dataset with two continuous variables, \"Temperature\" and \"Humidity\", and two categorical variables, \"Weather Condition\" (Sunny/Cloudy/Rainy) and \"Wind Direction\" (North/South/East/West). Calculate the covariance between each pair of variables and interpret the results.\n",
    "\n"
   ]
  },
  {
   "cell_type": "code",
   "execution_count": 9,
   "id": "5060b5bc-882d-48bf-8f04-eab62f48d211",
   "metadata": {},
   "outputs": [],
   "source": [
    "import pandas as pd\n",
    "\n",
    "df = pd.DataFrame({\n",
    "                 'Temperature' : [33,32,23,29,33,31,35],\n",
    "                 'Humidity':[68,69,73,71,66,75,77],\n",
    "                 'Weather_Condition':['Sunny','Cloudy','Rainy','Cloudy','Rainy','Sunny','Cloudy'],\n",
    "                 'Wind_Direction':['North','South','East','West','North','South','East']\n",
    "                 })"
   ]
  },
  {
   "cell_type": "code",
   "execution_count": 10,
   "id": "00a8c527-49e0-4db2-94e9-55164eed4539",
   "metadata": {},
   "outputs": [
    {
     "data": {
      "text/html": [
       "<div>\n",
       "<style scoped>\n",
       "    .dataframe tbody tr th:only-of-type {\n",
       "        vertical-align: middle;\n",
       "    }\n",
       "\n",
       "    .dataframe tbody tr th {\n",
       "        vertical-align: top;\n",
       "    }\n",
       "\n",
       "    .dataframe thead th {\n",
       "        text-align: right;\n",
       "    }\n",
       "</style>\n",
       "<table border=\"1\" class=\"dataframe\">\n",
       "  <thead>\n",
       "    <tr style=\"text-align: right;\">\n",
       "      <th></th>\n",
       "      <th>Temperature</th>\n",
       "      <th>Humidity</th>\n",
       "      <th>Weather_Condition</th>\n",
       "      <th>Wind_Direction</th>\n",
       "    </tr>\n",
       "  </thead>\n",
       "  <tbody>\n",
       "    <tr>\n",
       "      <th>0</th>\n",
       "      <td>33</td>\n",
       "      <td>68</td>\n",
       "      <td>Sunny</td>\n",
       "      <td>North</td>\n",
       "    </tr>\n",
       "    <tr>\n",
       "      <th>1</th>\n",
       "      <td>32</td>\n",
       "      <td>69</td>\n",
       "      <td>Cloudy</td>\n",
       "      <td>South</td>\n",
       "    </tr>\n",
       "    <tr>\n",
       "      <th>2</th>\n",
       "      <td>23</td>\n",
       "      <td>73</td>\n",
       "      <td>Rainy</td>\n",
       "      <td>East</td>\n",
       "    </tr>\n",
       "    <tr>\n",
       "      <th>3</th>\n",
       "      <td>29</td>\n",
       "      <td>71</td>\n",
       "      <td>Cloudy</td>\n",
       "      <td>West</td>\n",
       "    </tr>\n",
       "    <tr>\n",
       "      <th>4</th>\n",
       "      <td>33</td>\n",
       "      <td>66</td>\n",
       "      <td>Rainy</td>\n",
       "      <td>North</td>\n",
       "    </tr>\n",
       "    <tr>\n",
       "      <th>5</th>\n",
       "      <td>31</td>\n",
       "      <td>75</td>\n",
       "      <td>Sunny</td>\n",
       "      <td>South</td>\n",
       "    </tr>\n",
       "    <tr>\n",
       "      <th>6</th>\n",
       "      <td>35</td>\n",
       "      <td>77</td>\n",
       "      <td>Cloudy</td>\n",
       "      <td>East</td>\n",
       "    </tr>\n",
       "  </tbody>\n",
       "</table>\n",
       "</div>"
      ],
      "text/plain": [
       "   Temperature  Humidity Weather_Condition Wind_Direction\n",
       "0           33        68             Sunny          North\n",
       "1           32        69            Cloudy          South\n",
       "2           23        73             Rainy           East\n",
       "3           29        71            Cloudy           West\n",
       "4           33        66             Rainy          North\n",
       "5           31        75             Sunny          South\n",
       "6           35        77            Cloudy           East"
      ]
     },
     "execution_count": 10,
     "metadata": {},
     "output_type": "execute_result"
    }
   ],
   "source": [
    "df"
   ]
  },
  {
   "cell_type": "code",
   "execution_count": 17,
   "id": "cb30ba2e-b85a-486c-aede-31be780256cd",
   "metadata": {},
   "outputs": [],
   "source": [
    "from sklearn.preprocessing import LabelEncoder\n",
    "\n",
    "encoder = LabelEncoder()\n",
    "\n",
    "encoded_1=encoder.fit_transform(df['Weather_Condition'])\n",
    "\n",
    "encoded_2=encoder.fit_transform(df['Wind_Direction'])\n",
    "\n",
    "df1=pd.DataFrame(encoded_1,columns=['Encoded_Weather_Condition'])\n",
    "\n",
    "df2=pd.DataFrame(encoded_2,columns=['Encoded_Wind_Direction'])"
   ]
  },
  {
   "cell_type": "code",
   "execution_count": 22,
   "id": "3bce5ab3-11ae-4a77-a117-3e7106786a0d",
   "metadata": {},
   "outputs": [],
   "source": [
    "final_df=pd.concat([df,df1,df2],axis=1)"
   ]
  },
  {
   "cell_type": "code",
   "execution_count": 23,
   "id": "2667d04b-8a66-4046-a9f2-2e56b7cfcafa",
   "metadata": {},
   "outputs": [
    {
     "data": {
      "text/html": [
       "<div>\n",
       "<style scoped>\n",
       "    .dataframe tbody tr th:only-of-type {\n",
       "        vertical-align: middle;\n",
       "    }\n",
       "\n",
       "    .dataframe tbody tr th {\n",
       "        vertical-align: top;\n",
       "    }\n",
       "\n",
       "    .dataframe thead th {\n",
       "        text-align: right;\n",
       "    }\n",
       "</style>\n",
       "<table border=\"1\" class=\"dataframe\">\n",
       "  <thead>\n",
       "    <tr style=\"text-align: right;\">\n",
       "      <th></th>\n",
       "      <th>Temperature</th>\n",
       "      <th>Humidity</th>\n",
       "      <th>Weather_Condition</th>\n",
       "      <th>Wind_Direction</th>\n",
       "      <th>Encoded_Weather_Condition</th>\n",
       "      <th>Encoded_Wind_Direction</th>\n",
       "    </tr>\n",
       "  </thead>\n",
       "  <tbody>\n",
       "    <tr>\n",
       "      <th>0</th>\n",
       "      <td>33</td>\n",
       "      <td>68</td>\n",
       "      <td>Sunny</td>\n",
       "      <td>North</td>\n",
       "      <td>2</td>\n",
       "      <td>1</td>\n",
       "    </tr>\n",
       "    <tr>\n",
       "      <th>1</th>\n",
       "      <td>32</td>\n",
       "      <td>69</td>\n",
       "      <td>Cloudy</td>\n",
       "      <td>South</td>\n",
       "      <td>0</td>\n",
       "      <td>2</td>\n",
       "    </tr>\n",
       "    <tr>\n",
       "      <th>2</th>\n",
       "      <td>23</td>\n",
       "      <td>73</td>\n",
       "      <td>Rainy</td>\n",
       "      <td>East</td>\n",
       "      <td>1</td>\n",
       "      <td>0</td>\n",
       "    </tr>\n",
       "    <tr>\n",
       "      <th>3</th>\n",
       "      <td>29</td>\n",
       "      <td>71</td>\n",
       "      <td>Cloudy</td>\n",
       "      <td>West</td>\n",
       "      <td>0</td>\n",
       "      <td>3</td>\n",
       "    </tr>\n",
       "    <tr>\n",
       "      <th>4</th>\n",
       "      <td>33</td>\n",
       "      <td>66</td>\n",
       "      <td>Rainy</td>\n",
       "      <td>North</td>\n",
       "      <td>1</td>\n",
       "      <td>1</td>\n",
       "    </tr>\n",
       "    <tr>\n",
       "      <th>5</th>\n",
       "      <td>31</td>\n",
       "      <td>75</td>\n",
       "      <td>Sunny</td>\n",
       "      <td>South</td>\n",
       "      <td>2</td>\n",
       "      <td>2</td>\n",
       "    </tr>\n",
       "    <tr>\n",
       "      <th>6</th>\n",
       "      <td>35</td>\n",
       "      <td>77</td>\n",
       "      <td>Cloudy</td>\n",
       "      <td>East</td>\n",
       "      <td>0</td>\n",
       "      <td>0</td>\n",
       "    </tr>\n",
       "  </tbody>\n",
       "</table>\n",
       "</div>"
      ],
      "text/plain": [
       "   Temperature  Humidity Weather_Condition Wind_Direction  \\\n",
       "0           33        68             Sunny          North   \n",
       "1           32        69            Cloudy          South   \n",
       "2           23        73             Rainy           East   \n",
       "3           29        71            Cloudy           West   \n",
       "4           33        66             Rainy          North   \n",
       "5           31        75             Sunny          South   \n",
       "6           35        77            Cloudy           East   \n",
       "\n",
       "   Encoded_Weather_Condition  Encoded_Wind_Direction  \n",
       "0                          2                       1  \n",
       "1                          0                       2  \n",
       "2                          1                       0  \n",
       "3                          0                       3  \n",
       "4                          1                       1  \n",
       "5                          2                       2  \n",
       "6                          0                       0  "
      ]
     },
     "execution_count": 23,
     "metadata": {},
     "output_type": "execute_result"
    }
   ],
   "source": [
    "final_df"
   ]
  },
  {
   "cell_type": "code",
   "execution_count": 24,
   "id": "3a8dad82-adff-42d8-b2d0-058a8bdd8e50",
   "metadata": {},
   "outputs": [
    {
     "name": "stderr",
     "output_type": "stream",
     "text": [
      "/tmp/ipykernel_77/2790656087.py:1: FutureWarning: The default value of numeric_only in DataFrame.cov is deprecated. In a future version, it will default to False. Select only valid columns or specify the value of numeric_only to silence this warning.\n",
      "  final_df.cov()\n"
     ]
    },
    {
     "data": {
      "text/html": [
       "<div>\n",
       "<style scoped>\n",
       "    .dataframe tbody tr th:only-of-type {\n",
       "        vertical-align: middle;\n",
       "    }\n",
       "\n",
       "    .dataframe tbody tr th {\n",
       "        vertical-align: top;\n",
       "    }\n",
       "\n",
       "    .dataframe thead th {\n",
       "        text-align: right;\n",
       "    }\n",
       "</style>\n",
       "<table border=\"1\" class=\"dataframe\">\n",
       "  <thead>\n",
       "    <tr style=\"text-align: right;\">\n",
       "      <th></th>\n",
       "      <th>Temperature</th>\n",
       "      <th>Humidity</th>\n",
       "      <th>Encoded_Weather_Condition</th>\n",
       "      <th>Encoded_Wind_Direction</th>\n",
       "    </tr>\n",
       "  </thead>\n",
       "  <tbody>\n",
       "    <tr>\n",
       "      <th>Temperature</th>\n",
       "      <td>15.476190</td>\n",
       "      <td>-1.619048</td>\n",
       "      <td>-0.190476</td>\n",
       "      <td>0.214286</td>\n",
       "    </tr>\n",
       "    <tr>\n",
       "      <th>Humidity</th>\n",
       "      <td>-1.619048</td>\n",
       "      <td>15.571429</td>\n",
       "      <td>-0.452381</td>\n",
       "      <td>-1.095238</td>\n",
       "    </tr>\n",
       "    <tr>\n",
       "      <th>Encoded_Weather_Condition</th>\n",
       "      <td>-0.190476</td>\n",
       "      <td>-0.452381</td>\n",
       "      <td>0.809524</td>\n",
       "      <td>-0.119048</td>\n",
       "    </tr>\n",
       "    <tr>\n",
       "      <th>Encoded_Wind_Direction</th>\n",
       "      <td>0.214286</td>\n",
       "      <td>-1.095238</td>\n",
       "      <td>-0.119048</td>\n",
       "      <td>1.238095</td>\n",
       "    </tr>\n",
       "  </tbody>\n",
       "</table>\n",
       "</div>"
      ],
      "text/plain": [
       "                           Temperature   Humidity  Encoded_Weather_Condition  \\\n",
       "Temperature                  15.476190  -1.619048                  -0.190476   \n",
       "Humidity                     -1.619048  15.571429                  -0.452381   \n",
       "Encoded_Weather_Condition    -0.190476  -0.452381                   0.809524   \n",
       "Encoded_Wind_Direction        0.214286  -1.095238                  -0.119048   \n",
       "\n",
       "                           Encoded_Wind_Direction  \n",
       "Temperature                              0.214286  \n",
       "Humidity                                -1.095238  \n",
       "Encoded_Weather_Condition               -0.119048  \n",
       "Encoded_Wind_Direction                   1.238095  "
      ]
     },
     "execution_count": 24,
     "metadata": {},
     "output_type": "execute_result"
    }
   ],
   "source": [
    "final_df.cov()"
   ]
  },
  {
   "cell_type": "code",
   "execution_count": null,
   "id": "0b4bb6e5-de67-41e9-9884-aaf33737c8f2",
   "metadata": {},
   "outputs": [],
   "source": []
  }
 ],
 "metadata": {
  "kernelspec": {
   "display_name": "Python 3 (ipykernel)",
   "language": "python",
   "name": "python3"
  },
  "language_info": {
   "codemirror_mode": {
    "name": "ipython",
    "version": 3
   },
   "file_extension": ".py",
   "mimetype": "text/x-python",
   "name": "python",
   "nbconvert_exporter": "python",
   "pygments_lexer": "ipython3",
   "version": "3.10.8"
  }
 },
 "nbformat": 4,
 "nbformat_minor": 5
}
